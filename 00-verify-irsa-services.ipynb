{
 "cells": [
  {
   "cell_type": "markdown",
   "id": "e4a0f208-d459-405f-815c-d49609b41d00",
   "metadata": {},
   "source": [
    "### Verify the services are running\n"
   ]
  },
  {
   "cell_type": "markdown",
   "id": "46877b87-1a94-4ba8-ad2d-28ce0bbdd159",
   "metadata": {},
   "source": [
    "https://irsa-svc.domino-field is the service that connects to AWS to modify trust policies"
   ]
  },
  {
   "cell_type": "code",
   "execution_count": null,
   "id": "7fe6dfce-aa34-4a77-98db-2e17fd62fd91",
   "metadata": {
    "tags": []
   },
   "outputs": [],
   "source": [
    "#First let us verify that the IRSA backend service is running\n",
    "!curl -k https://irsa-svc.domino-field/healthz"
   ]
  },
  {
   "cell_type": "markdown",
   "id": "bcc83576-24a1-4fe5-95f9-e0d3ad5c5782",
   "metadata": {},
   "source": [
    "A workspace connects to the https://irsa-svc.domino-field/ via a side-car container http://localhost:6003 . This side-car in injected via a domsed mutation. The same mutation also injects the appropriate environment variables in the `run` container to configure the ability to assume the irsa roles"
   ]
  },
  {
   "cell_type": "code",
   "execution_count": null,
   "id": "51f763ee-405e-4163-91ba-9f34eedafcea",
   "metadata": {
    "tags": []
   },
   "outputs": [],
   "source": [
    "!curl http://localhost:6003/healthz"
   ]
  },
  {
   "cell_type": "markdown",
   "id": "0d78ac8a-e1e3-4785-8b64-8a5c3d9f239d",
   "metadata": {},
   "source": [
    "Verify that the web identity token with which the workspace authenticates with AWS is configured. This variable should be pre-populated with a JWT token"
   ]
  },
  {
   "cell_type": "code",
   "execution_count": null,
   "id": "35cfdec0-c1e1-4b13-b849-b5900af75412",
   "metadata": {
    "tags": []
   },
   "outputs": [],
   "source": [
    "#Fetch my mappings (Any user can do this)\n",
    "import requests\n",
    "import os\n",
    "access_token_endpoint='http://localhost:8899/access-token'\n",
    "resp = requests.get(access_token_endpoint)\n",
    "\n",
    "\n",
    "token = resp.text\n",
    "headers = {\n",
    "             \"Content-Type\": \"application/json\",\n",
    "             \"Authorization\": \"Bearer \" + token,\n",
    "        }\n",
    "endpoint='https://irsa-svc.domino-field/my_role_mappings'\n",
    "resp = requests.get(endpoint,headers=headers,verify=False)\n",
    "print(resp.text)\n"
   ]
  },
  {
   "cell_type": "code",
   "execution_count": null,
   "id": "e2ab7b18-64e0-4411-9f5f-bbffac2ca126",
   "metadata": {
    "tags": []
   },
   "outputs": [],
   "source": [
    "!cat $AWS_WEB_IDENTITY_TOKEN_FILE"
   ]
  },
  {
   "cell_type": "markdown",
   "id": "12be5b9b-7d0f-41b3-9c67-5eb27f73b91f",
   "metadata": {},
   "source": [
    "Now go to www.jwt.io and paste the above token. Note the `iss`. This is the token that boto3 api uses to implicitly authenticate with IAM. This occurs implicitly when the `AWS_WEB_IDENTITY_TOKEN_FILE` environment variable set.\n",
    "\n",
    "Note the `iss`. This is the token that boto3 api uses to implicitly authenticate with IAM. This occurs implicitly when the `AWS_WEB_IDENTITY_TOKEN_FILE` environment variable set.\n",
    "\n",
    "Note the `sub` is `system:serviceaccount:domino-compute:run-$DOMINO_RUN_ID` (your workspace service account is same as your run-id)\n",
    "[Ex. `system:serviceaccount:domino-compute:run-646d27b817c28b5ea4b5b0c1`] \n",
    "\n",
    "`system:serviceaccount:domino-compute:run-646d27b817c28b5ea4b5b0c1` (your workspace service account) . This will be important later.\n",
    "\n",
    "```json\n",
    "{\n",
    "  \"aud\": [\n",
    "    \"sts.amazonaws.com\"\n",
    "  ],\n",
    "  \"exp\": 1685030736,\n",
    "  \"iat\": 1684944336,\n",
    "  \"iss\": \"https://oidc.eks.us-west-2.amazonaws.com/id/xxxx\",\n",
    "  \"kubernetes.io\": {\n",
    "    \"namespace\": \"domino-compute\",\n",
    "    \"pod\": {\n",
    "      \"name\": \"run-646d27b817c28b5ea4b5b0c1-fxc2q\",\n",
    "      \"uid\": \"63e373b0-4d62-4860-a329-baec1afcd3f8\"\n",
    "    },\n",
    "    \"serviceaccount\": {\n",
    "      \"name\": \"run-646d27b817c28b5ea4b5b0c1\",\n",
    "      \"uid\": \"ed97cfcf-58c6-4c1e-8929-71ff9bc335aa\"\n",
    "    }\n",
    "  },\n",
    "  \"nbf\": 1684944336,\n",
    "  \"sub\": \"system:serviceaccount:domino-compute:run-646d27b817c28b5ea4b5b0c1\"\n",
    "}\n",
    "```"
   ]
  },
  {
   "cell_type": "markdown",
   "id": "2e562c33-12e7-48a6-8679-821f2450acf4",
   "metadata": {},
   "source": [
    "### AWS Config File\n",
    "\n",
    "The `boto3` library looks for the config file in the following location `$AWS_CONFIG_FILE` which in your workspace\n",
    "is set to `/var/run/.aws/config`"
   ]
  },
  {
   "cell_type": "code",
   "execution_count": null,
   "id": "a7b2e165-af33-4f94-a960-9b7ef8bb0654",
   "metadata": {
    "tags": []
   },
   "outputs": [],
   "source": [
    "!cat $AWS_CONFIG_FILE"
   ]
  },
  {
   "cell_type": "markdown",
   "id": "676ba3d8-9474-481c-88c1-2fe55cf083ad",
   "metadata": {},
   "source": [
    "This is file is created by the side-car container during startup. You can always refresh it using the command \n",
    "```shell\n",
    "curl http://localhost:6003/refresh\n",
    "```\n",
    "\n",
    "\n",
    "For each profile in the asset account there is a corresponding role in the eks account\n",
    "\n",
    "| AWS Profile (Asset Account)     | SRC AWS Profile (EKS Account) |\n",
    "| ----------- | ----------- |\n",
    "| `acme-list-bucket-role`      | `src_acme-list-bucket-role`       |\n",
    "| `acme-read-bucket-role`  | `src_acme-read-bucket-role`       |\n",
    "| `acme-update-bucket-role`   | `src_acme-read-bucket-role`       |\n",
    "\n",
    "An example `src` profile looks like this:\n",
    "\n",
    "```shell\n",
    "[profile src_acme-list-bucket-role]\n",
    "web_identity_token_file = /var/run/secrets/eks.amazonaws.com/serviceaccount/token\n",
    "role_arn=arn:aws:iam::<EKS_ACCOUNT_NO>:role/acme-list-bucket-role\n",
    "```\n",
    "The corresponding asset profile looks like this:\n",
    "\n",
    "```shell\n",
    "[profile acme-list-bucket-role]\n",
    "source_profile = src_acme-list-bucket-role\n",
    "role_arn=arn:aws:iam::<ASSETS_ACCOUNT_NO>:role/acme-list-bucket-role\n",
    "```\n",
    "\n",
    "When the user assumes the asset profile `acme-list-bucket-role` it knows its `source_profile` is `src_acme-list-bucket-role`\n",
    "\n",
    "The `src_acme-list-bucket-role` uses the `web_identity_token_file` to authenticate with AWS IAM which already has \n",
    "a trust relationship established with the OIDC provider who issues the web identity token. It uses this to assume the role\n",
    "`role_arn` in the source profile `aws:iam::<EKS_ACCOUNT_NO>:role/acme-list-bucket-role`\n",
    "\n",
    "The `aws:iam::<EKS_ACCOUNT_NO>:role/acme-list-bucket-role` in turn tries to assume the role `arn:aws:iam::<ASSETS_ACCOUNT_NO>:role/acme-list-bucket-role`\n",
    "which is listed as the `role_arn` in the `[profile acme-list-bucket-role]`"
   ]
  },
  {
   "cell_type": "markdown",
   "id": "f7d1a08a-dfdb-4f29-aa01-0969ca7f8519",
   "metadata": {},
   "source": [
    "### Bringing it all together\n",
    "\n",
    "When the workspace starts up, the side-car invokes the backend IRSA service using the following code-snippet"
   ]
  },
  {
   "cell_type": "code",
   "execution_count": null,
   "id": "a108a879-5527-496d-a037-24d28e4da830",
   "metadata": {
    "tags": []
   },
   "outputs": [],
   "source": [
    "#Emulate Side-Car\n",
    "import requests\n",
    "import os\n",
    "access_token_endpoint='http://localhost:8899/access-token'\n",
    "resp = requests.get(access_token_endpoint)\n",
    "\n",
    "os.environ['SSL_CERT_DIR']='/etc/ssl/certs/irsa'\n",
    "token = resp.text\n",
    "headers = {\n",
    "             \"Content-Type\": \"application/json\",\n",
    "             \"Authorization\": \"Bearer \" + token,\n",
    "        }\n",
    "endpoint='https://irsa-svc.domino-field/map_iam_roles_to_pod_sa'\n",
    "print(f\"Domino Run Id{os.environ['DOMINO_RUN_ID']}\")\n",
    "data = {\"run_id\": os.environ['DOMINO_RUN_ID']} ## It fetches this fom the downward api\n",
    "resp = requests.post(endpoint,headers=headers,json=data,verify=os.environ['DOMINO_IRSA_SSL_CERT'])\n",
    "resp.text"
   ]
  },
  {
   "cell_type": "markdown",
   "id": "919fa85d-d7c1-401b-850b-c38a651c3abd",
   "metadata": {},
   "source": [
    "The backend IRSA service updates the trust policy file attached to each of the source roles being added to the config file.\n",
    "The trust policy will look like this:\n",
    "```json\n",
    "{\n",
    "    \"Version\": \"2012-10-17\",\n",
    "    \"Statement\": [\n",
    "        {\n",
    "            \"Effect\": \"Allow\",\n",
    "            \"Principal\": {\n",
    "                \"Federated\": \"arn:aws:iam::<EKS_ACCOUNT>:oidc-provider/oidc.eks.us-west-2.amazonaws.com/id/<OIDC_PROVIDER_ID>\"\n",
    "            },\n",
    "            \"Action\": \"sts:AssumeRoleWithWebIdentity\",\n",
    "            \"Condition\": {\n",
    "                \"StringLike\": {\n",
    "                    \"oidc.eks.us-west-2.amazonaws.com/id/<OIDC_PROVIDER_ID>:aud\": \"sts.amazonaws.com\",\n",
    "                    \"oidc.eks.us-west-2.amazonaws.com/id/<OIDC_PROVIDER_ID>:sub\": [\n",
    "                        \"*:domino-compute:run-646d27b817c28b5ea4b5b0c1\",\n",
    "                        \"*:domino-compute:run-646f604955daf764547c5b77\"\n",
    "                    ]\n",
    "                }\n",
    "            }\n",
    "        }\n",
    "    ]\n",
    "}\n",
    "```\n",
    "\n",
    "Note the `aud` and `sub` fields. This is the reason why the `src_acme-list-bucket-role` profile can assume the role\n",
    "`arn:aws:iam::<EKS_ACCOUNT_NO>:role/acme-list-bucket-role`. If you remove the entries for your workspace from the trust policy,\n",
    "the web identity token can authenticate with the AWS IAM but IAM will not allow it to assume the role.\n",
    "\n",
    "Last each of the roles in the EKS Account have the following policies attached to them:\n",
    "\n",
    "| Role    | Policies  |\n",
    "| ----------- | ----------- |\n",
    "| `acme-list-bucket-role`      | `acme-list-bucket-policy`       |\n",
    "| `acme-read-bucket-role`  | `acme-read-bucket-policy`       |\n",
    "| `acme-update-bucket-role`   | `acme-read-bucket-policy`       |\n",
    "\n",
    "`acme-list-bucket-policy` looks like this:\n",
    "```json\n",
    "{\n",
    "    \"Version\": \"2012-10-17\",\n",
    "    \"Statement\": [\n",
    "        {\n",
    "            \"Effect\": \"Allow\",\n",
    "            \"Action\": \"sts:AssumeRole\",\n",
    "            \"Resource\": \"arn:aws:iam::<ASSETS_ACCOUNT_NO>:role/acme-list-bucket-role\"\n",
    "        }\n",
    "    ]\n",
    "}\n",
    "```\n",
    "The other two policies are similar\n",
    "\n",
    "\n",
    "To summarize two things make it possible for the workspace to assume the role `arn:aws:iam::<EKS_ACCOUNT_NO>:role/acme-list-bucket-role`\n",
    "(and the other two roles):\n",
    "\n",
    "1. The web identity token which was issued by the oidc provider (`sub` provides the identity)\n",
    "2. The `Condition` section of the trust policy attached to the roles which explictly declares which `sub` are allowed to \n",
    "assume the role.\n",
    "3. The permission policies attached to the roles in the EKS account will be allowed to assume roles in the Assets account.\n",
    "\n",
    "One last thing, the corresponding roles in the Assets Account ex. `arn:aws:iam::<ASSETS_ACCOUNT_NO>:role/acme-list-bucket-role`\n",
    "need to have their trust policy to allow principals in the EKS account to assume it. This is the trust policy attached to\n",
    "each of the roles `acme-list-bucket-role` , `acme-read-bucket-role` and `acme-update-bucket-role` \n",
    "\n",
    "```\n",
    "{\n",
    "    \"Version\": \"2012-10-17\",\n",
    "    \"Statement\": [\n",
    "        {\n",
    "            \"Effect\": \"Allow\",\n",
    "            \"Principal\": {\n",
    "                \"AWS\": \"arn:aws:iam::<EKS_ACCOUNT_NO>:root\"\n",
    "            },\n",
    "            \"Action\": \"sts:AssumeRole\"\n",
    "        }\n",
    "    ]\n",
    "}\n",
    "```"
   ]
  },
  {
   "cell_type": "markdown",
   "id": "6dd09daf-dc02-412c-b95b-330bda8f436b",
   "metadata": {},
   "source": [
    "## Refreshing the .aws/config file\n",
    "\n",
    "If the mappings have changed during a live workspace, you can refresh them using the call below. There is no need to restart the workspace"
   ]
  },
  {
   "cell_type": "code",
   "execution_count": null,
   "id": "df5add12-5bcd-4519-b24f-6d395040b3b4",
   "metadata": {},
   "outputs": [],
   "source": [
    "!curl http://localhost:6003/refresh"
   ]
  },
  {
   "cell_type": "code",
   "execution_count": null,
   "id": "8097ea98-0ff8-4c84-acc9-f5f93703eacb",
   "metadata": {},
   "outputs": [],
   "source": []
  }
 ],
 "metadata": {
  "dca-init": "true",
  "kernelspec": {
   "display_name": "Python 3 (ipykernel)",
   "language": "python",
   "name": "python3"
  },
  "language_info": {
   "codemirror_mode": {
    "name": "ipython",
    "version": 3
   },
   "file_extension": ".py",
   "mimetype": "text/x-python",
   "name": "python",
   "nbconvert_exporter": "python",
   "pygments_lexer": "ipython3",
   "version": "3.9.18"
  }
 },
 "nbformat": 4,
 "nbformat_minor": 5
}
