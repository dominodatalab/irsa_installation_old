{
 "cells": [
  {
   "cell_type": "markdown",
   "id": "e4a0f208-d459-405f-815c-d49609b41d00",
   "metadata": {},
   "source": [
    "### Verify the services are running\n"
   ]
  },
  {
   "cell_type": "code",
   "execution_count": null,
   "id": "7fe6dfce-aa34-4a77-98db-2e17fd62fd91",
   "metadata": {
    "tags": []
   },
   "outputs": [],
   "source": [
    "#First let us verify that the IRSA backend service is running\n",
    "!curl -k https://irsa-svc.domino-field/healthz"
   ]
  },
  {
   "cell_type": "code",
   "execution_count": null,
   "id": "51f763ee-405e-4163-91ba-9f34eedafcea",
   "metadata": {
    "tags": []
   },
   "outputs": [],
   "source": [
    "!curl http://localhost:6003/healthz"
   ]
  },
  {
   "cell_type": "markdown",
   "id": "540c4955-6468-4d07-abf2-bc913c2f9b98",
   "metadata": {
    "tags": []
   },
   "source": [
    "## Add/Update Role Mapping (Only Domino Administrators can make this call)\n",
    "```\n",
    "POST https://irsa-svc.domino-field/update_role_mapping\n",
    "```\n",
    "\n",
    "This endpoint adds a mapping between a Domino Organization, AWS Role (the user will assume) and the Proxy AWS Role through which the AWS role is assumed.\n",
    "The payload takes the following form:\n",
    "```json\n",
    "{\n",
    "    \"domino_org\":\"my_test_org\",\n",
    "    \"iam_role_arn\":\"arn:aws:iam::<ASSETS_ACCOUNT_NO>:role/test-role\",\n",
    "    \"proxy_iam_role_arn\":\"arn:aws:iam::<EKS_ACCOUNT_NO>:role/test-role\"\n",
    "}\n",
    "```\n",
    "**Note**: The proxy role is required for scaling to a large number of workloads. If the EKS Cluster and aws assets are in the same account, the aws account numbers for the two roles will be the same\n",
    "\n",
    "**Note**: The endpoint does not check if the organization name is valid. Make sure you add a valid organization (even if after running the endpoint)proxy_iam_role"
   ]
  },
  {
   "cell_type": "code",
   "execution_count": null,
   "id": "7ecb94a5-0ab2-46d7-a637-52dd8b8d0452",
   "metadata": {
    "tags": []
   },
   "outputs": [],
   "source": [
    "#Fetch my mappings (Any user can do this)\n",
    "import requests\n",
    "import os\n",
    "def get_headers():\n",
    "    access_token_endpoint='http://localhost:8899/access-token'\n",
    "    token = requests.get(access_token_endpoint).text\n",
    "    headers = {\n",
    "             \"Content-Type\": \"application/json\",\n",
    "             \"Authorization\": \"Bearer \" + token,\n",
    "     }\n",
    "    return headers"
   ]
  },
  {
   "cell_type": "code",
   "execution_count": null,
   "id": "7f0218b8-fe6c-4874-8385-3c7f47c5202e",
   "metadata": {
    "tags": []
   },
   "outputs": [],
   "source": [
    "import requests\n",
    "import os\n",
    "\n",
    "def add_org_to_role_mapping(eks_account_no,assets_account_no,domino_org_name,asset_role_name,proxy_role_name):\n",
    "    endpoint='https://irsa-svc.domino-field/update_role_mapping'\n",
    "    body={\n",
    "        \"domino_org\":f\"{domino_org_name}\",\n",
    "        \"iam_role_arn\":f\"arn:aws:iam::{assets_account_no}:role/{asset_role_name}\",\n",
    "        \"proxy_iam_role_arn\":f\"arn:aws:iam::{eks_account_no}:role/{proxy_role_name}\"\n",
    "    }\n",
    "    resp = requests.post(endpoint,headers=get_headers(),json=body,verify=False)\n",
    "    return resp.status_code,resp.text\n",
    "\n",
    "def delete_org_mapping(domino_org_name):\n",
    "    endpoint='https://irsa-svc.domino-field/delete_role_mapping'\n",
    "    body={\n",
    "        \"domino_org\":f\"{domino_org_name}\"\n",
    "    }\n",
    "    resp = requests.delete(endpoint,headers=get_headers(),json=body,verify=False)\n",
    "    return resp.status_code,resp.text"
   ]
  },
  {
   "cell_type": "code",
   "execution_count": null,
   "id": "a1547be7-f146-48f7-a2df-f706dba88923",
   "metadata": {
    "tags": []
   },
   "outputs": [],
   "source": [
    "## Add the asset and proxy role name. Run this for all the pair\n",
    "## Add aws account number\n",
    "EKS_ACCOUNT_NO=\"<ADD>\"\n",
    "ASSETS_ACCOUNT_NO=\"<ADD>\""
   ]
  },
  {
   "cell_type": "code",
   "execution_count": null,
   "id": "48a1221a-eca8-40c8-9273-1de4ca3f1b6d",
   "metadata": {
    "tags": []
   },
   "outputs": [],
   "source": [
    "DOMINO_ORG_NAME=\"irsa-org-2\"\n",
    "ASSET_ROLE_NAME=\"domino-irsa-workload-role\"\n",
    "PROXY_ROLE_NAME=\"domino-irsa-proxy2-domino-irsa-workload-role\"\n",
    "add_org_to_role_mapping(EKS_ACCOUNT_NO,ASSETS_ACCOUNT_NO,DOMINO_ORG_NAME,ASSET_ROLE_NAME,PROXY_ROLE_NAME)"
   ]
  },
  {
   "cell_type": "markdown",
   "id": "aeed097e-faf2-4120-89df-7c250aad68b3",
   "metadata": {},
   "source": [
    "## Get My Mappings (All users can make this call)\n",
    "```\n",
    "GET https://irsa-svc.domino-field/my_role_mappings\n",
    "```\n",
    "\n",
    "It will return a list of Domino Organizations along with the corresponding AWS ROLE and the AWS Proxy Role the user is assigned to. The user can assume any of these AWS role. The actual role is assumed via the proxy aws role."
   ]
  },
  {
   "cell_type": "code",
   "execution_count": null,
   "id": "35cfdec0-c1e1-4b13-b849-b5900af75412",
   "metadata": {
    "tags": []
   },
   "outputs": [],
   "source": [
    "#Fetch my mappings (Any user can do this)\n",
    "endpoint='https://irsa-svc.domino-field/my_role_mappings'\n",
    "resp = requests.get(endpoint,headers=get_headers(),verify=False)\n",
    "print(resp.text)\n"
   ]
  },
  {
   "cell_type": "markdown",
   "id": "69950afa-140d-4ea0-b320-3af43e1b145d",
   "metadata": {},
   "source": [
    "## Get All Mappings (Only Domino Administrators can make this call)\n",
    "```\n",
    "GET https://irsa-svc.domino-field/role_mappings\n",
    "```\n",
    "\n",
    "It will return a list of Domino Organizations along with the corresponding AWS ROLE and the AWS Proxy Role the user is assigned to. The user can assume any of these AWS role. The actual role is assumed via the proxy aws role."
   ]
  },
  {
   "cell_type": "code",
   "execution_count": null,
   "id": "ba5e6fda-fb18-4662-85a4-132d70f8a028",
   "metadata": {
    "tags": []
   },
   "outputs": [],
   "source": [
    "endpoint='https://irsa-svc.domino-field/role_mappings'\n",
    "resp = requests.get(endpoint,headers=get_headers(),verify=False)\n",
    "print(resp.text)"
   ]
  },
  {
   "cell_type": "markdown",
   "id": "84a48674-c106-4c99-8992-b28818619449",
   "metadata": {},
   "source": [
    "## Delete Role Mapping (Only Domino Administrators can make this call)\n",
    "```\n",
    "DELETE https://irsa-svc.domino-field/delete_role_mapping\n",
    "```\n",
    "\n",
    "This endpoint adds a mapping between a Domino Organization, AWS Role (the user will assume) and the Proxy AWS Role through which the AWS role is assumed.\n",
    "The payload takes the following form:\n",
    "```json\n",
    "{\n",
    "    \"domino_org\":\"my_test_org\"\n",
    "}\n",
    "```\n"
   ]
  },
  {
   "cell_type": "code",
   "execution_count": null,
   "id": "e31a20c3-b4ba-47bb-82c4-7214ec046409",
   "metadata": {
    "tags": []
   },
   "outputs": [],
   "source": [
    "domino_org_name=\"irsa-org-2\"\n",
    "delete_org_mapping(domino_org_name)"
   ]
  },
  {
   "cell_type": "markdown",
   "id": "8c57b845-93cb-42cc-bd61-879f63f420d2",
   "metadata": {},
   "source": [
    "## Refreshing the .aws/config file\n",
    "\n",
    "If the mappings have changed during a live workspace, you can refresh them using the call below. There is no need to restart the workspace. "
   ]
  },
  {
   "cell_type": "code",
   "execution_count": null,
   "id": "00552ed9-1bb2-49e7-8447-ec2d082563c9",
   "metadata": {
    "tags": []
   },
   "outputs": [],
   "source": [
    "!curl http://localhost:6003/refresh"
   ]
  },
  {
   "cell_type": "markdown",
   "id": "4096fa52-2fe9-41fa-ae82-dac8a6f80a2b",
   "metadata": {},
   "source": [
    "Verify if the new mappings appear in your $AWS_CONFIG_FILE"
   ]
  },
  {
   "cell_type": "code",
   "execution_count": null,
   "id": "3c903694-9d84-4d8f-bae7-fc0029adb1eb",
   "metadata": {
    "tags": []
   },
   "outputs": [],
   "source": [
    "!cat $AWS_CONFIG_FILE"
   ]
  },
  {
   "cell_type": "code",
   "execution_count": null,
   "id": "ccf607ba-fbc4-41f6-baf4-02a8e964e781",
   "metadata": {},
   "outputs": [],
   "source": []
  }
 ],
 "metadata": {
  "dca-init": "true",
  "kernelspec": {
   "display_name": "Python 3 (ipykernel)",
   "language": "python",
   "name": "python3"
  },
  "language_info": {
   "codemirror_mode": {
    "name": "ipython",
    "version": 3
   },
   "file_extension": ".py",
   "mimetype": "text/x-python",
   "name": "python",
   "nbconvert_exporter": "python",
   "pygments_lexer": "ipython3",
   "version": "3.9.18"
  }
 },
 "nbformat": 4,
 "nbformat_minor": 5
}
