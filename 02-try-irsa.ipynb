{
 "cells": [
  {
   "cell_type": "markdown",
   "id": "e4a0f208-d459-405f-815c-d49609b41d00",
   "metadata": {},
   "source": [
    "### Verify the services are running\n"
   ]
  },
  {
   "cell_type": "code",
   "execution_count": null,
   "id": "7fe6dfce-aa34-4a77-98db-2e17fd62fd91",
   "metadata": {
    "tags": []
   },
   "outputs": [],
   "source": [
    "#First let us verify that the IRSA backend service is running\n",
    "!curl -k https://irsa-svc.domino-field/healthz"
   ]
  },
  {
   "cell_type": "code",
   "execution_count": null,
   "id": "51f763ee-405e-4163-91ba-9f34eedafcea",
   "metadata": {
    "tags": []
   },
   "outputs": [],
   "source": [
    "!curl http://localhost:6003/healthz"
   ]
  },
  {
   "cell_type": "code",
   "execution_count": null,
   "id": "e2ab7b18-64e0-4411-9f5f-bbffac2ca126",
   "metadata": {
    "tags": []
   },
   "outputs": [],
   "source": [
    "!cat $AWS_WEB_IDENTITY_TOKEN_FILE"
   ]
  },
  {
   "cell_type": "code",
   "execution_count": null,
   "id": "a7b2e165-af33-4f94-a960-9b7ef8bb0654",
   "metadata": {
    "tags": []
   },
   "outputs": [],
   "source": [
    "!cat $AWS_CONFIG_FILE"
   ]
  },
  {
   "cell_type": "markdown",
   "id": "41c4c008-dd1f-49c3-b40d-6f882d3fd951",
   "metadata": {},
   "source": [
    "### Now lets get some action\n",
    "\n",
    "Let us actual make calls using the `boto3` api now :\n",
    "\n",
    "\n",
    "### Listing Profiles\n",
    "\n",
    "Let us use the boto3 library to fetch all the profiles available. This is similar to `cat $AWS_CONFIG_FILE`"
   ]
  },
  {
   "cell_type": "code",
   "execution_count": null,
   "id": "4ed3b5cf-46e3-49f0-87ad-375a11088f40",
   "metadata": {
    "tags": []
   },
   "outputs": [],
   "source": [
    "import boto3.session\n",
    "for profile in boto3.session.Session().available_profiles:\n",
    "    print(profile)"
   ]
  },
  {
   "cell_type": "markdown",
   "id": "2fc9eaef-a599-49ca-b229-f2651fd55cf9",
   "metadata": {},
   "source": [
    "### Listing the bucket\n",
    "\n",
    "First lets verify what the identity of the profile is. This is determines by a combination of the web identity token\n",
    "and the underlying assumed role in the Assests Account via the role in the EKS Account"
   ]
  },
  {
   "cell_type": "code",
   "execution_count": null,
   "id": "8e5976cd-63cc-44f6-9af4-5e45a4c69c67",
   "metadata": {
    "tags": []
   },
   "outputs": [],
   "source": [
    "import boto3.session\n",
    "list_bucket_profile_name='domino-irsa-workload-role'\n",
    "session = boto3.session.Session(profile_name=list_bucket_profile_name)\n",
    "sts_client = session.client('sts')\n",
    "sts_client.get_caller_identity()"
   ]
  },
  {
   "cell_type": "code",
   "execution_count": null,
   "id": "1a4fd8be-af98-45c6-9942-4a3f6dccdaa1",
   "metadata": {
    "tags": []
   },
   "outputs": [],
   "source": [
    "#Now list the bucket\n",
    "import boto3\n",
    "test_bucket='domino-dev-irsa-test-bucket'\n",
    "list_bucket_profile_name='domino-irsa-workload-role'\n",
    "session = boto3.session.Session(profile_name=list_bucket_profile_name)\n",
    "s3_client = session.client('s3')\n",
    "for key in s3_client.list_objects(Bucket=test_bucket)['Contents']:\n",
    "    print(key)"
   ]
  },
  {
   "cell_type": "markdown",
   "id": "cbf7ab61-40f3-4262-88b4-0e6dec962db5",
   "metadata": {},
   "source": [
    "### Writing to the bucket\n",
    "\n",
    "Now we write to the bucket. For that we need to use the profile 'acme-update-bucket-role'. This role in the assets\n",
    "account will have the following policies attached to it (List, Read, Update permission)\n",
    "\n",
    "1. `acme-list-bucket-policy` [Only the relevant snipper below]\n",
    "\n",
    "\n",
    "2. `acme-read-bucket-policy` \n",
    "\n",
    "```json\n",
    "        {\n",
    "            \"Effect\": \"Allow\",\n",
    "            \"Action\": [\"s3:Get*\"],\n",
    "            \"Resource\": [\"arn:aws:s3:::domino-acme-test-bucket/*\"]\n",
    "        }\n",
    "```\n",
    "\n",
    "2. `acme-update-bucket-policy` \n",
    "\n",
    "```json\n",
    "     [\n",
    "        {\n",
    "            \"Sid\": \"WriteObjectsInBucket\",\n",
    "            \"Effect\": \"Allow\",\n",
    "            \"Action\": \"s3:PutObject\",\n",
    "            \"Resource\": [\"arn:aws:s3:::domino-acme-test-bucket/*\"]\n",
    "        },\n",
    "        {\n",
    "            \"Sid\": \"DeleteObjectsInBucket\",\n",
    "            \"Effect\": \"Allow\",\n",
    "            \"Action\": \"s3:DeleteObject\",\n",
    "            \"Resource\": [\"arn:aws:s3:::domino-acme-test-bucket/*\"]\n",
    "        }\n",
    "    ]\n",
    "```\n",
    "\n",
    "Now let us create a object with key `$DOMINO_STARTING_USERNAME.txt`"
   ]
  },
  {
   "cell_type": "code",
   "execution_count": null,
   "id": "615e3804-933b-458d-ae72-c745bbf09a91",
   "metadata": {
    "tags": []
   },
   "outputs": [],
   "source": [
    "import boto3\n",
    "import os\n",
    "test_bucket='domino-acme-test-bucket'\n",
    "starting_user = os.environ['DOMINO_STARTING_USERNAME']\n",
    "update_bucket_profile_name='acme-update-bucket-role'\n",
    "session = boto3.session.Session(profile_name=update_bucket_profile_name)\n",
    "s3_client = session.client('s3')\n",
    "object_data = \"This is a random string.\"\n",
    "object_key = f'{starting_user}.txt'\n",
    "s3_client.put_object(Body=object_data, Bucket=test_bucket, Key=object_key)"
   ]
  },
  {
   "cell_type": "markdown",
   "id": "0dc8baa4-4a8e-4d21-979d-dead5104ad0d",
   "metadata": {},
   "source": [
    "\n",
    "### Reading a key from the bucket\n",
    "\n",
    "Let us now read the newly added object from the bucket. This is provided by the role `acme-read-bucket-role`. This role\n",
    "has the  policies `acme-read-bucket-policy` attached to it:\n",
    "\n",
    "1. `acme-list-bucket-policy`\n",
    "2. `acme-read-bucket-policy`\n",
    "```json\n",
    "         {\n",
    "            \"Sid\": \"WriteObjectsInBucket\",\n",
    "            \"Effect\": \"Allow\",\n",
    "            \"Action\": \"\"s3:Get*\"\",\n",
    "            \"Resource\": [\"arn:aws:s3:::domino-acme-test-bucket/*\"]\n",
    "        }\n",
    "```\n",
    "\n",
    "Run the following code snippet:"
   ]
  },
  {
   "cell_type": "code",
   "execution_count": null,
   "id": "400c594a-e181-4edf-9107-f5ac09fadbe6",
   "metadata": {
    "tags": []
   },
   "outputs": [],
   "source": [
    "import boto3\n",
    "import os\n",
    "test_bucket='domino-acme-test-bucket'\n",
    "starting_user = os.environ['DOMINO_STARTING_USERNAME']\n",
    "read_bucket_profile_name='acme-read-bucket-role'\n",
    "object_key = f'{starting_user}.txt'\n",
    "session = boto3.session.Session(profile_name=read_bucket_profile_name)\n",
    "s3_client = session.client('s3')\n",
    "data = s3_client.get_object(Bucket=test_bucket, Key=object_key)\n",
    "contents = data['Body'].read()\n",
    "print(f'\\n---Contents of the key {object_key}----\\n')\n",
    "print(contents.decode(\"utf-8\"))"
   ]
  },
  {
   "cell_type": "markdown",
   "id": "493c455b-2dd5-4e90-a93c-aad545de8c74",
   "metadata": {
    "tags": []
   },
   "source": [
    "### Deleting a key from the bucket\n",
    "\n",
    "Finally let us delete the newly created object"
   ]
  },
  {
   "cell_type": "code",
   "execution_count": null,
   "id": "051b4702-3e3c-489c-b322-42a91fc2f955",
   "metadata": {},
   "outputs": [],
   "source": [
    "import boto3\n",
    "import os\n",
    "test_bucket='domino-acme-test-bucket'\n",
    "update_bucket_profile_name='acme-update-bucket-role'\n",
    "starting_user = os.environ['DOMINO_STARTING_USERNAME']\n",
    "object_key = f'{starting_user}.txt'\n",
    "print(f'Deleting Key {object_key} from bucket {test_bucket}')\n",
    "\n",
    "session = boto3.session.Session(profile_name=update_bucket_profile_name)\n",
    "s3_client = session.client('s3')\n",
    "s3_client.delete_object(Bucket=test_bucket, Key=object_key)\n",
    "print('\\nNow listing bucket:\\n')\n",
    "for key in s3_client.list_objects(Bucket=test_bucket)['Contents']:\n",
    "    print(key)\n"
   ]
  }
 ],
 "metadata": {
  "dca-init": "true",
  "kernelspec": {
   "display_name": "Python 3 (ipykernel)",
   "language": "python",
   "name": "python3"
  },
  "language_info": {
   "codemirror_mode": {
    "name": "ipython",
    "version": 3
   },
   "file_extension": ".py",
   "mimetype": "text/x-python",
   "name": "python",
   "nbconvert_exporter": "python",
   "pygments_lexer": "ipython3",
   "version": "3.9.18"
  }
 },
 "nbformat": 4,
 "nbformat_minor": 5
}
